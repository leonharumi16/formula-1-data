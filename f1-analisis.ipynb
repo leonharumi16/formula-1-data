{
 "cells": [
  {
   "cell_type": "markdown",
   "id": "d41208e6",
   "metadata": {},
   "source": [
    "## Librerias"
   ]
  },
  {
   "cell_type": "code",
   "execution_count": 7,
   "id": "4451b4db",
   "metadata": {},
   "outputs": [],
   "source": [
    "import requests\n",
    "import json\n",
    "import pandas as pd\n",
    "import warnings\n",
    "warnings.filterwarnings(\"ignore\")"
   ]
  },
  {
   "cell_type": "markdown",
   "id": "4103e6b0",
   "metadata": {},
   "source": [
    "## Tabla de races"
   ]
  },
  {
   "cell_type": "code",
   "execution_count": 2,
   "id": "af2a7816",
   "metadata": {},
   "outputs": [],
   "source": [
    "races={'season':[],\n",
    "      'round':[],\n",
    "      'raceName':[],\n",
    "      'circuitId':[],\n",
    "      'lat':[],\n",
    "      'long':[],\n",
    "      'country':[],\n",
    "      'date':[],\n",
    "      'url':[]}"
   ]
  },
  {
   "cell_type": "code",
   "execution_count": 3,
   "id": "0e206cfc",
   "metadata": {},
   "outputs": [],
   "source": [
    "for year in list(range(2010,2023)):\n",
    "    url='http://ergast.com/api/f1/{}.json'\n",
    "    response=requests.get(url.format(year))\n",
    "    content=json.loads(response.content)\n",
    "    \n",
    "    for item in content['MRData']['RaceTable']['Races']:\n",
    "        \n",
    "        races['season'].append(int(item['season']))\n",
    "        \n",
    "        races['round'].append(int(item['round']))\n",
    "        \n",
    "        races['raceName'].append(item['raceName'])\n",
    "        \n",
    "        races['circuitId'].append(item['Circuit']['circuitId'])\n",
    "        \n",
    "        races['lat'].append(item['Circuit']['Location']['lat'])\n",
    "        \n",
    "        races['long'].append(item['Circuit']['Location']['long'])\n",
    "        \n",
    "        races['country'].append(item['Circuit']['Location']['country'])\n",
    "        \n",
    "        races['date'].append(item['date'])\n",
    "        \n",
    "        races['url'].append(item['url'])\n"
   ]
  },
  {
   "cell_type": "code",
   "execution_count": 5,
   "id": "e8587397",
   "metadata": {},
   "outputs": [
    {
     "data": {
      "text/html": [
       "<div>\n",
       "<style scoped>\n",
       "    .dataframe tbody tr th:only-of-type {\n",
       "        vertical-align: middle;\n",
       "    }\n",
       "\n",
       "    .dataframe tbody tr th {\n",
       "        vertical-align: top;\n",
       "    }\n",
       "\n",
       "    .dataframe thead th {\n",
       "        text-align: right;\n",
       "    }\n",
       "</style>\n",
       "<table border=\"1\" class=\"dataframe\">\n",
       "  <thead>\n",
       "    <tr style=\"text-align: right;\">\n",
       "      <th></th>\n",
       "      <th>season</th>\n",
       "      <th>round</th>\n",
       "      <th>raceName</th>\n",
       "      <th>circuitId</th>\n",
       "      <th>lat</th>\n",
       "      <th>long</th>\n",
       "      <th>country</th>\n",
       "      <th>date</th>\n",
       "      <th>url</th>\n",
       "    </tr>\n",
       "  </thead>\n",
       "  <tbody>\n",
       "    <tr>\n",
       "      <th>0</th>\n",
       "      <td>2010</td>\n",
       "      <td>1</td>\n",
       "      <td>Bahrain Grand Prix</td>\n",
       "      <td>bahrain</td>\n",
       "      <td>26.0325</td>\n",
       "      <td>50.5106</td>\n",
       "      <td>Bahrain</td>\n",
       "      <td>2010-03-14</td>\n",
       "      <td>http://en.wikipedia.org/wiki/2010_Bahrain_Gran...</td>\n",
       "    </tr>\n",
       "    <tr>\n",
       "      <th>1</th>\n",
       "      <td>2010</td>\n",
       "      <td>2</td>\n",
       "      <td>Australian Grand Prix</td>\n",
       "      <td>albert_park</td>\n",
       "      <td>-37.8497</td>\n",
       "      <td>144.968</td>\n",
       "      <td>Australia</td>\n",
       "      <td>2010-03-28</td>\n",
       "      <td>http://en.wikipedia.org/wiki/2010_Australian_G...</td>\n",
       "    </tr>\n",
       "    <tr>\n",
       "      <th>2</th>\n",
       "      <td>2010</td>\n",
       "      <td>3</td>\n",
       "      <td>Malaysian Grand Prix</td>\n",
       "      <td>sepang</td>\n",
       "      <td>2.76083</td>\n",
       "      <td>101.738</td>\n",
       "      <td>Malaysia</td>\n",
       "      <td>2010-04-04</td>\n",
       "      <td>http://en.wikipedia.org/wiki/2010_Malaysian_Gr...</td>\n",
       "    </tr>\n",
       "    <tr>\n",
       "      <th>3</th>\n",
       "      <td>2010</td>\n",
       "      <td>4</td>\n",
       "      <td>Chinese Grand Prix</td>\n",
       "      <td>shanghai</td>\n",
       "      <td>31.3389</td>\n",
       "      <td>121.22</td>\n",
       "      <td>China</td>\n",
       "      <td>2010-04-18</td>\n",
       "      <td>http://en.wikipedia.org/wiki/2010_Chinese_Gran...</td>\n",
       "    </tr>\n",
       "    <tr>\n",
       "      <th>4</th>\n",
       "      <td>2010</td>\n",
       "      <td>5</td>\n",
       "      <td>Spanish Grand Prix</td>\n",
       "      <td>catalunya</td>\n",
       "      <td>41.57</td>\n",
       "      <td>2.26111</td>\n",
       "      <td>Spain</td>\n",
       "      <td>2010-05-09</td>\n",
       "      <td>http://en.wikipedia.org/wiki/2010_Spanish_Gran...</td>\n",
       "    </tr>\n",
       "    <tr>\n",
       "      <th>...</th>\n",
       "      <td>...</td>\n",
       "      <td>...</td>\n",
       "      <td>...</td>\n",
       "      <td>...</td>\n",
       "      <td>...</td>\n",
       "      <td>...</td>\n",
       "      <td>...</td>\n",
       "      <td>...</td>\n",
       "      <td>...</td>\n",
       "    </tr>\n",
       "    <tr>\n",
       "      <th>254</th>\n",
       "      <td>2022</td>\n",
       "      <td>18</td>\n",
       "      <td>Japanese Grand Prix</td>\n",
       "      <td>suzuka</td>\n",
       "      <td>34.8431</td>\n",
       "      <td>136.541</td>\n",
       "      <td>Japan</td>\n",
       "      <td>2022-10-09</td>\n",
       "      <td>http://en.wikipedia.org/wiki/2022_Japanese_Gra...</td>\n",
       "    </tr>\n",
       "    <tr>\n",
       "      <th>255</th>\n",
       "      <td>2022</td>\n",
       "      <td>19</td>\n",
       "      <td>United States Grand Prix</td>\n",
       "      <td>americas</td>\n",
       "      <td>30.1328</td>\n",
       "      <td>-97.6411</td>\n",
       "      <td>USA</td>\n",
       "      <td>2022-10-23</td>\n",
       "      <td>http://en.wikipedia.org/wiki/2022_United_State...</td>\n",
       "    </tr>\n",
       "    <tr>\n",
       "      <th>256</th>\n",
       "      <td>2022</td>\n",
       "      <td>20</td>\n",
       "      <td>Mexico City Grand Prix</td>\n",
       "      <td>rodriguez</td>\n",
       "      <td>19.4042</td>\n",
       "      <td>-99.0907</td>\n",
       "      <td>Mexico</td>\n",
       "      <td>2022-10-30</td>\n",
       "      <td>http://en.wikipedia.org/wiki/2022_Mexican_Gran...</td>\n",
       "    </tr>\n",
       "    <tr>\n",
       "      <th>257</th>\n",
       "      <td>2022</td>\n",
       "      <td>21</td>\n",
       "      <td>Brazilian Grand Prix</td>\n",
       "      <td>interlagos</td>\n",
       "      <td>-23.7036</td>\n",
       "      <td>-46.6997</td>\n",
       "      <td>Brazil</td>\n",
       "      <td>2022-11-13</td>\n",
       "      <td>http://en.wikipedia.org/wiki/2022_Brazilian_Gr...</td>\n",
       "    </tr>\n",
       "    <tr>\n",
       "      <th>258</th>\n",
       "      <td>2022</td>\n",
       "      <td>22</td>\n",
       "      <td>Abu Dhabi Grand Prix</td>\n",
       "      <td>yas_marina</td>\n",
       "      <td>24.4672</td>\n",
       "      <td>54.6031</td>\n",
       "      <td>UAE</td>\n",
       "      <td>2022-11-20</td>\n",
       "      <td>http://en.wikipedia.org/wiki/2022_Abu_Dhabi_Gr...</td>\n",
       "    </tr>\n",
       "  </tbody>\n",
       "</table>\n",
       "<p>259 rows × 9 columns</p>\n",
       "</div>"
      ],
      "text/plain": [
       "     season  round                  raceName    circuitId       lat      long  \\\n",
       "0      2010      1        Bahrain Grand Prix      bahrain   26.0325   50.5106   \n",
       "1      2010      2     Australian Grand Prix  albert_park  -37.8497   144.968   \n",
       "2      2010      3      Malaysian Grand Prix       sepang   2.76083   101.738   \n",
       "3      2010      4        Chinese Grand Prix     shanghai   31.3389    121.22   \n",
       "4      2010      5        Spanish Grand Prix    catalunya     41.57   2.26111   \n",
       "..      ...    ...                       ...          ...       ...       ...   \n",
       "254    2022     18       Japanese Grand Prix       suzuka   34.8431   136.541   \n",
       "255    2022     19  United States Grand Prix     americas   30.1328  -97.6411   \n",
       "256    2022     20    Mexico City Grand Prix    rodriguez   19.4042  -99.0907   \n",
       "257    2022     21      Brazilian Grand Prix   interlagos  -23.7036  -46.6997   \n",
       "258    2022     22      Abu Dhabi Grand Prix   yas_marina   24.4672   54.6031   \n",
       "\n",
       "       country        date                                                url  \n",
       "0      Bahrain  2010-03-14  http://en.wikipedia.org/wiki/2010_Bahrain_Gran...  \n",
       "1    Australia  2010-03-28  http://en.wikipedia.org/wiki/2010_Australian_G...  \n",
       "2     Malaysia  2010-04-04  http://en.wikipedia.org/wiki/2010_Malaysian_Gr...  \n",
       "3        China  2010-04-18  http://en.wikipedia.org/wiki/2010_Chinese_Gran...  \n",
       "4        Spain  2010-05-09  http://en.wikipedia.org/wiki/2010_Spanish_Gran...  \n",
       "..         ...         ...                                                ...  \n",
       "254      Japan  2022-10-09  http://en.wikipedia.org/wiki/2022_Japanese_Gra...  \n",
       "255        USA  2022-10-23  http://en.wikipedia.org/wiki/2022_United_State...  \n",
       "256     Mexico  2022-10-30  http://en.wikipedia.org/wiki/2022_Mexican_Gran...  \n",
       "257     Brazil  2022-11-13  http://en.wikipedia.org/wiki/2022_Brazilian_Gr...  \n",
       "258        UAE  2022-11-20  http://en.wikipedia.org/wiki/2022_Abu_Dhabi_Gr...  \n",
       "\n",
       "[259 rows x 9 columns]"
      ]
     },
     "execution_count": 5,
     "metadata": {},
     "output_type": "execute_result"
    }
   ],
   "source": [
    "pd.DataFrame(races)"
   ]
  },
  {
   "cell_type": "code",
   "execution_count": 13,
   "id": "4c467eb1",
   "metadata": {},
   "outputs": [
    {
     "ename": "KeyError",
     "evalue": "'SeasonTable'",
     "output_type": "error",
     "traceback": [
      "\u001b[1;31m---------------------------------------------------------------------------\u001b[0m",
      "\u001b[1;31mKeyError\u001b[0m                                  Traceback (most recent call last)",
      "\u001b[1;32m~\\AppData\\Local\\Temp\\ipykernel_2784\\2230824660.py\u001b[0m in \u001b[0;36m<module>\u001b[1;34m\u001b[0m\n\u001b[1;32m----> 1\u001b[1;33m \u001b[0mcontent\u001b[0m\u001b[1;33m[\u001b[0m\u001b[1;34m'MRData'\u001b[0m\u001b[1;33m]\u001b[0m\u001b[1;33m[\u001b[0m\u001b[1;34m'SeasonTable'\u001b[0m\u001b[1;33m]\u001b[0m\u001b[1;33m[\u001b[0m\u001b[1;34m'Seasons'\u001b[0m\u001b[1;33m]\u001b[0m\u001b[1;33m[\u001b[0m\u001b[1;36m0\u001b[0m\u001b[1;33m]\u001b[0m\u001b[1;33m\u001b[0m\u001b[1;33m\u001b[0m\u001b[0m\n\u001b[0m",
      "\u001b[1;31mKeyError\u001b[0m: 'SeasonTable'"
     ]
    }
   ],
   "source": [
    "content['MRData']['SeasonTable']['Seasons'][0]"
   ]
  },
  {
   "cell_type": "markdown",
   "id": "63939be1",
   "metadata": {},
   "source": [
    "## Tabla de seasons"
   ]
  },
  {
   "cell_type": "code",
   "execution_count": 39,
   "id": "4835d825",
   "metadata": {},
   "outputs": [],
   "source": [
    "url='http://ergast.com/api/f1/seasons.json'\n",
    "response=requests.get(url)\n",
    "content=json.loads(response.content)"
   ]
  },
  {
   "cell_type": "code",
   "execution_count": 43,
   "id": "dbc0c866",
   "metadata": {},
   "outputs": [],
   "source": [
    "seasons={'season':[],\n",
    "         'url':[]}"
   ]
  },
  {
   "cell_type": "code",
   "execution_count": 44,
   "id": "19a2d319",
   "metadata": {},
   "outputs": [],
   "source": [
    "for year in list(range(2010,2023)):\n",
    "    for item in content['MRData']['SeasonTable']['Seasons']:\n",
    "        seasons['season'].append(int(item['season']))\n",
    "        seasons['url'].append(item['url'])"
   ]
  },
  {
   "cell_type": "code",
   "execution_count": 46,
   "id": "2c45e63a",
   "metadata": {},
   "outputs": [
    {
     "data": {
      "text/html": [
       "<div>\n",
       "<style scoped>\n",
       "    .dataframe tbody tr th:only-of-type {\n",
       "        vertical-align: middle;\n",
       "    }\n",
       "\n",
       "    .dataframe tbody tr th {\n",
       "        vertical-align: top;\n",
       "    }\n",
       "\n",
       "    .dataframe thead th {\n",
       "        text-align: right;\n",
       "    }\n",
       "</style>\n",
       "<table border=\"1\" class=\"dataframe\">\n",
       "  <thead>\n",
       "    <tr style=\"text-align: right;\">\n",
       "      <th></th>\n",
       "      <th>season</th>\n",
       "      <th>url</th>\n",
       "    </tr>\n",
       "  </thead>\n",
       "  <tbody>\n",
       "    <tr>\n",
       "      <th>0</th>\n",
       "      <td>1950</td>\n",
       "      <td>http://en.wikipedia.org/wiki/1950_Formula_One_...</td>\n",
       "    </tr>\n",
       "    <tr>\n",
       "      <th>1</th>\n",
       "      <td>1951</td>\n",
       "      <td>http://en.wikipedia.org/wiki/1951_Formula_One_...</td>\n",
       "    </tr>\n",
       "    <tr>\n",
       "      <th>2</th>\n",
       "      <td>1952</td>\n",
       "      <td>http://en.wikipedia.org/wiki/1952_Formula_One_...</td>\n",
       "    </tr>\n",
       "    <tr>\n",
       "      <th>3</th>\n",
       "      <td>1953</td>\n",
       "      <td>http://en.wikipedia.org/wiki/1953_Formula_One_...</td>\n",
       "    </tr>\n",
       "    <tr>\n",
       "      <th>4</th>\n",
       "      <td>1954</td>\n",
       "      <td>http://en.wikipedia.org/wiki/1954_Formula_One_...</td>\n",
       "    </tr>\n",
       "    <tr>\n",
       "      <th>...</th>\n",
       "      <td>...</td>\n",
       "      <td>...</td>\n",
       "    </tr>\n",
       "    <tr>\n",
       "      <th>385</th>\n",
       "      <td>1975</td>\n",
       "      <td>http://en.wikipedia.org/wiki/1975_Formula_One_...</td>\n",
       "    </tr>\n",
       "    <tr>\n",
       "      <th>386</th>\n",
       "      <td>1976</td>\n",
       "      <td>http://en.wikipedia.org/wiki/1976_Formula_One_...</td>\n",
       "    </tr>\n",
       "    <tr>\n",
       "      <th>387</th>\n",
       "      <td>1977</td>\n",
       "      <td>http://en.wikipedia.org/wiki/1977_Formula_One_...</td>\n",
       "    </tr>\n",
       "    <tr>\n",
       "      <th>388</th>\n",
       "      <td>1978</td>\n",
       "      <td>http://en.wikipedia.org/wiki/1978_Formula_One_...</td>\n",
       "    </tr>\n",
       "    <tr>\n",
       "      <th>389</th>\n",
       "      <td>1979</td>\n",
       "      <td>http://en.wikipedia.org/wiki/1979_Formula_One_...</td>\n",
       "    </tr>\n",
       "  </tbody>\n",
       "</table>\n",
       "<p>390 rows × 2 columns</p>\n",
       "</div>"
      ],
      "text/plain": [
       "     season                                                url\n",
       "0      1950  http://en.wikipedia.org/wiki/1950_Formula_One_...\n",
       "1      1951  http://en.wikipedia.org/wiki/1951_Formula_One_...\n",
       "2      1952  http://en.wikipedia.org/wiki/1952_Formula_One_...\n",
       "3      1953  http://en.wikipedia.org/wiki/1953_Formula_One_...\n",
       "4      1954  http://en.wikipedia.org/wiki/1954_Formula_One_...\n",
       "..      ...                                                ...\n",
       "385    1975  http://en.wikipedia.org/wiki/1975_Formula_One_...\n",
       "386    1976  http://en.wikipedia.org/wiki/1976_Formula_One_...\n",
       "387    1977  http://en.wikipedia.org/wiki/1977_Formula_One_...\n",
       "388    1978  http://en.wikipedia.org/wiki/1978_Formula_One_...\n",
       "389    1979  http://en.wikipedia.org/wiki/1979_Formula_One_...\n",
       "\n",
       "[390 rows x 2 columns]"
      ]
     },
     "execution_count": 46,
     "metadata": {},
     "output_type": "execute_result"
    }
   ],
   "source": [
    "pd.DataFrame(seasons)"
   ]
  },
  {
   "cell_type": "markdown",
   "id": "94d3e453",
   "metadata": {},
   "source": [
    "## Tabla de resultados"
   ]
  },
  {
   "cell_type": "code",
   "execution_count": 8,
   "id": "f866c2d3",
   "metadata": {},
   "outputs": [],
   "source": [
    "url='http://ergast.com/api/f1/2022/22/results.json'\n",
    "response=requests.get(url)\n",
    "content=json.loads(response.content)"
   ]
  },
  {
   "cell_type": "code",
   "execution_count": null,
   "id": "147aa98f",
   "metadata": {},
   "outputs": [],
   "source": []
  },
  {
   "cell_type": "code",
   "execution_count": null,
   "id": "5411921a",
   "metadata": {},
   "outputs": [],
   "source": [
    "df_results_2022=pd.DataFrame()\n",
    "for race in list(range(1,23)):\n",
    "    url='http://ergast.com/api/f1/2022/{}/results.json'\n",
    "    response=requests.get(url.format(race))\n",
    "    content=json.loads(response.content)\n",
    "    df_results_2022=df_results_2022.append(pd.DataFrame(content['MRData']['RaceTable']['Races'][0]['Results']))"
   ]
  },
  {
   "cell_type": "code",
   "execution_count": null,
   "id": "8f8618a2",
   "metadata": {},
   "outputs": [],
   "source": [
    "df_results_2022['Driver']=df_results_2022['Driver'].apply(lambda x: x['driverId'])"
   ]
  },
  {
   "cell_type": "code",
   "execution_count": null,
   "id": "c4250099",
   "metadata": {},
   "outputs": [],
   "source": [
    "df_results_2022['points']=df_results_2022['points'].astype(int)"
   ]
  },
  {
   "cell_type": "code",
   "execution_count": null,
   "id": "9f78e167",
   "metadata": {},
   "outputs": [],
   "source": [
    "df_results_2022.groupby(['Driver']).agg({'points': 'sum'}).sort_values(by='points',ascending=False)"
   ]
  },
  {
   "cell_type": "code",
   "execution_count": null,
   "id": "d6c11136",
   "metadata": {},
   "outputs": [],
   "source": [
    "pd.DataFrame(content['MRData']['RaceTable']['Races'][0]['Results'])"
   ]
  }
 ],
 "metadata": {
  "kernelspec": {
   "display_name": "Python 3 (ipykernel)",
   "language": "python",
   "name": "python3"
  },
  "language_info": {
   "codemirror_mode": {
    "name": "ipython",
    "version": 3
   },
   "file_extension": ".py",
   "mimetype": "text/x-python",
   "name": "python",
   "nbconvert_exporter": "python",
   "pygments_lexer": "ipython3",
   "version": "3.9.13"
  }
 },
 "nbformat": 4,
 "nbformat_minor": 5
}
